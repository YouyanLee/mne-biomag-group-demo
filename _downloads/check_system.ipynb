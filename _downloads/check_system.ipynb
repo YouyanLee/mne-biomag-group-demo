{
  "nbformat_minor": 0, 
  "nbformat": 4, 
  "cells": [
    {
      "execution_count": null, 
      "cell_type": "code", 
      "source": [
        "%matplotlib inline"
      ], 
      "outputs": [], 
      "metadata": {
        "collapsed": false
      }
    }, 
    {
      "source": [
        "\n# Check dependencies\n\n\nCheck if dependencies are present\n\n"
      ], 
      "cell_type": "markdown", 
      "metadata": {}
    }, 
    {
      "execution_count": null, 
      "cell_type": "code", 
      "source": [
        "import os\nimport warnings\n\ntry:\n    import mne  # noqa\nexcept:\n    raise ValueError('mne is not installed.')\n\ntry:\n    import nibabel  # noqa\nexcept:\n    raise ValueError('nibabel is not installed.')\n\ntry:\n    import autoreject  # noqa\nexcept:\n    raise ValueError('autoreject is not installed.')\n\ntry:\n    import sklearn  # noqa\nexcept:\n    raise ValueError('sklearn is not installed.')\n\nmne.sys_info()\n\nFREESURFER_HOME = os.environ.get(\"FREESURFER_HOME\", None)\nif FREESURFER_HOME is None:\n    raise ValueError('freesurfer is not available on your system.')\nelse:\n    print(\"FREESURFER_HOME: %s\" % FREESURFER_HOME)\n\nOMP_NUM_THREADS = os.environ.get(\"OMP_NUM_THREADS\", None)\nif OMP_NUM_THREADS is None:\n    warnings.warn('OMP_NUM_THREADS is not set. We recommend you set it to '\n                  '2 or 4 depending on your system.')\nelse:\n    print(\"OMP_NUM_THREADS: %s\" % OMP_NUM_THREADS)\n\n# For building the doc:\n\ntry:\n    import sphinx_gallery  # noqa\n    print(\"sphinx_gallery: %s\" % sphinx_gallery.__version__)\nexcept:\n    raise ValueError('sphinx_gallery is not installed. '\n                     'Run: pip install sphinx_gallery')\n\ntry:\n    import sphinx_bootstrap_theme  # noqa\n    print(\"sphinx_bootstrap_theme: %s\" % sphinx_bootstrap_theme.__version__)\nexcept:\n    raise ValueError('sphinx_bootstrap_theme is not installed. '\n                     'Run: pip install sphinx_bootstrap_theme')"
      ], 
      "outputs": [], 
      "metadata": {
        "collapsed": false
      }
    }
  ], 
  "metadata": {
    "kernelspec": {
      "display_name": "Python 2", 
      "name": "python2", 
      "language": "python"
    }, 
    "language_info": {
      "mimetype": "text/x-python", 
      "nbconvert_exporter": "python", 
      "name": "python", 
      "file_extension": ".py", 
      "version": "2.7.12", 
      "pygments_lexer": "ipython2", 
      "codemirror_mode": {
        "version": 2, 
        "name": "ipython"
      }
    }
  }
}